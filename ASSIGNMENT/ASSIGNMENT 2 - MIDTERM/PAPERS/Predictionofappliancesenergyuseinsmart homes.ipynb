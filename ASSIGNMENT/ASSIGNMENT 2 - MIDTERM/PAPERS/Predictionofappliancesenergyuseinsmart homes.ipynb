{
 "cells": [
  {
   "cell_type": "markdown",
   "metadata": {},
   "source": [
    "## Prediction of appliances energy use in smart homes\n"
   ]
  },
  {
   "cell_type": "markdown",
   "metadata": {},
   "source": [
    "### Summary\n",
    "\n",
    "The paper focus on prediction of energy of the applicance in homes. It has tested two predictors and has also proposed stochastic based predictor. Processing techinque is used to improve performance of the predictor, segmentation and aggregation of the data.\n"
   ]
  },
  {
   "cell_type": "markdown",
   "metadata": {},
   "source": [
    "### Introduction\n",
    "Different approches have been considered in this paper, First, the energy\n",
    "consumption prediction is done for each appliance in a home, then\n",
    "the forecast will be made for the total energy consumed in a home\n",
    "and, finally, a prediction can be made regarding the households\n",
    "supplied by a certain energy provider. Energy saving is dependent on the appliances consumption. The paper refer to many different paper on energy consumption. An energy prediction based on Bayesian Networks for\n",
    "a single appliance is considered in one of the paper. A statistical approach is further developed in this paper and a prediction algorithm basedon an assessment index is proposed"
   ]
  },
  {
   "cell_type": "markdown",
   "metadata": {
    "collapsed": true
   },
   "source": [
    "### Why there is a need for energy prediction ?\n",
    "<ol>\n",
    "<li>Power system challlenges are met by the Smart grid concept</li>\n",
    "<li>It integrates the use of sensors,\n",
    "communications, computational ability and control in order to\n",
    "enhance the overall functionality of the electric power system.</li>\n",
    "<li>There is a need to manage energy use and its cost</li>\n",
    "<li>The main purpose of the electrical grid is to assure the energy\n",
    "production necessary for consumers’ consumption in a reliable manner</li>\n",
    "<li>Electric grid assure the necesiity of energy production for the customer commsumption</li>\n",
    "<li> Demand response  which is refer to the ability to cut off some electrical loads at peak times to ameliorate the need for peaking generation sources. and Demand dispatc that refers to the ability to control in a precise manner the individual loads at all times, not only at peak period is gaining importances in the enviroment compliance</li>\n",
    "</ol>\n",
    "\n",
    "Load management which eventually controls the energy consumption involves two approaches\n",
    "<ul>\n",
    "<li><b>Direct control</b> refers to the classical methods of load control which involve increasing the energy production in case of higher load demand. </li>\n",
    "<li>To limit or change the energy consumption habits is the energy price - <b>control by cost</b></li>\n",
    "</ul>\n",
    "\n",
    "<img src=\"Capture.png\">\n",
    "It was noticed that the energy consumption is at peak during the day in the\n",
    "morning, between 8 and 10 AM, and in the night, between 6 and 10 PM. The mechanism to increase the enrgy price at this peak hours was adopted to lower the energy consumption. The energy market is a powerful instrument that sets the prices between the energy producers and energy suppliers and consumers.\n",
    "The smart home is a new concept that allows control of the services in the house through a home automation system. The electrical devices include two-way communication capabilities for allowing the energy management system to control the consumption.\n",
    "\n",
    "<ul><li>Energy prediction for appliances in homes play the functioning of a home energy management system.</li>\n",
    "<li>Different types of predictions can be made in order to determine\n",
    "the energy consumption of the appliances in a house. In this paper,\n",
    "the predictor aims at predicting whether the service will consume\n",
    "energy or not during each hour of the next 24 h and The predictor performance is based on recorded data, which concern the energy consumption of appliances</li></ul>"
   ]
  },
  {
   "cell_type": "markdown",
   "metadata": {},
   "source": [
    "#### Prediction using different predictors\n",
    "<ul><li> “will always consume” predictor: Considering that appliance will consume energy permanently</li>\n",
    "<li>“will never consume” predictor:Con sidering that appliance will never consume energy. The value of precision for this predictor is the complement of the “will always consume” predictor precision  </li>\n",
    "<li>\"The ARMA predictor\"(Auto Regressive Moving Average): In this method the current value of a time variable is assumed to be a function of its past values and it is expressed as a weighted sum (moving average). It is used to predict enrgy consumption of next day.\n",
    " </li>\n",
    " <li>\"The proposed predictor\": Specifies the probability of the appliance to consume on an hourly base </li></ul>\n",
    " \n",
    "Prediction precision can be improved by segamenting the data. A recursion search on the data will improve the prediction better. While segementing different aspects can be considered such as the applicance usages on hourly, monthly and season bases. They have used k-Means clustering\n",
    "algorithm in order to group the similar consumption days."
   ]
  },
  {
   "cell_type": "markdown",
   "metadata": {},
   "source": [
    "### Conclusion\n",
    "The prediction of energy consumption in housing is very dependent on inhabitants’ behavior, so a stochastic method for prediction has been presented in this paper. Diffrent predicted have been prosed and tested in this paper. The data has been be segemented into k means clusters in order to improve the prediction precision. "
   ]
  },
  {
   "cell_type": "markdown",
   "metadata": {},
   "source": [
    "### Drawbacks:\n",
    "<ul><li>The paper has vaguely provided concepts of the other paper it is refering to, thus complying reader to go through those paper first before understanding this paper thoroughly.</li>\n",
    "<li>Paper has not considered the predictores where appliances are consuming energy arbitrarily. </li>\n",
    "<li>Total energy consumption of the household shoud also have been considered</li></ul>"
   ]
  },
  {
   "cell_type": "code",
   "execution_count": null,
   "metadata": {
    "collapsed": true
   },
   "outputs": [],
   "source": []
  }
 ],
 "metadata": {
  "kernelspec": {
   "display_name": "Python 3",
   "language": "python",
   "name": "python3"
  },
  "language_info": {
   "codemirror_mode": {
    "name": "ipython",
    "version": 3
   },
   "file_extension": ".py",
   "mimetype": "text/x-python",
   "name": "python",
   "nbconvert_exporter": "python",
   "pygments_lexer": "ipython3",
   "version": "3.6.3"
  }
 },
 "nbformat": 4,
 "nbformat_minor": 2
}

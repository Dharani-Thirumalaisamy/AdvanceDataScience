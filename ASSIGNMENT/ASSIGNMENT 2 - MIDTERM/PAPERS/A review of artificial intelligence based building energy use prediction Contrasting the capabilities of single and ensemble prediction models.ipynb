{
 "cells": [
  {
   "cell_type": "markdown",
   "metadata": {},
   "source": [
    "# A review of artificial intelligence based building energy use prediction: Contrasting the capabilities of single and ensemble prediction models\n",
    "\n",
    "\n",
    "\n"
   ]
  },
  {
   "cell_type": "markdown",
   "metadata": {},
   "source": [
    "## SUMMARY :\n",
    "In this paper they have focused on building energy use prediction model using three methods : Engineering , Artificial Intelligence and hybrid techniques. Out off all three AI proved to be efficient and accurate. AI based model prediction is done by taking variables such as environment factors , occupancy status and building characteristics into consideration. Nearly 80% of the research is done on non-residential buildings , as it is very difficult to get data from residential building  out of which 90% uses single prediction model due to low popularity of ensemble prediction model and more than 50% of the input data type is meteorological data type which includes the outdoor temperature , wind speed ,humidity etc. \n",
    "Single prediction method has different techniques such as Multiple Linear Regression(MLR) , Artificial Neural Networks(ANN) , Support Vector Regression(SVR) out of which 41% of the research is carried out using ANN as it is fast , accurate and deals with non-linear relationships. In case of MLR though it is very easy to implement it doesn't deal with non-linear relationship. On the other hand , SVR deals with non-linear relationships and has proved to be better than ANN in many studies but even then ANN is dominating because in SVR it is very difficult to chose the kernel function and the right choice of kernel function is very important as it affects the learning ability of the SVR.  \n",
    "Ensemble prediction model was extended to energy use prediction only in the year 2014 because of which only 10% of the studies uses this technique. There are two types of ensemble model : homogeneous and heterogeneous. In homogeneous type , the framework is similar to single prediction model which is data ingestion ( meteorological data from non-residential building) , data-preprocessing(missing data analysis , cleaning data etc.) , splitting the data into training set and test set. After separating the data , in single prediction model a single learning algorithm will be implemented but in this case , the training data will be split into different subsets and will be modeled using a single learning algorithm which will then be divided into different base subsets and these will be combined together to form the final model. Whereas in heterogeneous model , the training data will be split into different subsets and in each subset different learning algorithm will  be implemented which will result in different base model which will be combined to form a single prediction model. As different base models are combined together , the error will be nullified and it has proven to be more accurate than single prediction model.\n",
    "Once the model is predicted , test data is tested on this, The resultant output is classified into different energy types such as building energy , heating and cooling energy , heating energy , cooling energy and other types. In most of the studies the focus is on building energy which is the electrical energy as it reveals the overall energy performance of the building.. \n",
    "Compared to engineering methods and hybrid methods , AI is preferred because in other two methods it is necessary to know the physical characteristics of the building whereas in AI the historical data is enough to predict the model. Moreover it is relatively easy to inject the data and model it than studying the physical characteristics of the building to predict the model.\n",
    "Though there are many advantages of AI , there are disadvantages too. AI based modeling needs a lot of training data to predict the model which can be put to use and also has to be trained again and again for accuracy and also every time some alterations are done to the building or the environment."
   ]
  },
  {
   "cell_type": "markdown",
   "metadata": {},
   "source": [
    "## Critique :\n",
    "1. Could have given a little more information about the inputs such as what type of climatic condition are they performing this study etc., this could have given a more clear picture about the output.\n",
    "2. The author has listed out various studies conducted by different people across the world on ANN which is not necessary. They could have mentioned few studies relevant to this topic and concluded by saying why ANN is preferred.\n",
    "3. The author has explained about ensemble model using the study that they conducted in cancer field. I feel they deviated from the topic. They could have sighted something that was conducted in the field that is related to the paper.\n",
    "4. In section 4 , they have listed out the disadvantages of AI  such as it needs extensive training data for model establishment and few others. They felt AI is better than the other 2 techniques just because it requires data and not any physical study about the building. So mentioning the same thing as disadvantage of AI is more like contradicting their own point."
   ]
  },
  {
   "cell_type": "markdown",
   "metadata": {},
   "source": [
    "## Novelty :\n",
    "1. I like the flow of the paper. Even a person who has absolutely no knowledge in this field will be able to understand this paper.\n",
    "2. Explanation on why one method is preferred over another is conveyed very well.\n",
    "3. Future researches that are to be carried out are listed out well. \n"
   ]
  },
  {
   "cell_type": "code",
   "execution_count": null,
   "metadata": {
    "collapsed": true
   },
   "outputs": [],
   "source": []
  }
 ],
 "metadata": {
  "kernelspec": {
   "display_name": "Python 3",
   "language": "python",
   "name": "python3"
  },
  "language_info": {
   "codemirror_mode": {
    "name": "ipython",
    "version": 3
   },
   "file_extension": ".py",
   "mimetype": "text/x-python",
   "name": "python",
   "nbconvert_exporter": "python",
   "pygments_lexer": "ipython3",
   "version": "3.6.3"
  }
 },
 "nbformat": 4,
 "nbformat_minor": 2
}

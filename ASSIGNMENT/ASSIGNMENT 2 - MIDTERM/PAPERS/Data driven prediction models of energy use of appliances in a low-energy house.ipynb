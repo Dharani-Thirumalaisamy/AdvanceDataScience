{
 "cells": [
  {
   "cell_type": "markdown",
   "metadata": {},
   "source": [
    "# Review of the Paper : Data driven prediction models of energy use of appliances in a low-energy house"
   ]
  },
  {
   "cell_type": "markdown",
   "metadata": {},
   "source": [
    "## Summary"
   ]
  },
  {
   "cell_type": "markdown",
   "metadata": {},
   "source": [
    "This paper is about co-relation between energy consumption and the factors that influence that.It deals with a series of methods more precisely predictors to make predictions of the overall energy consumption of a household using the data collected over some months of a year.\n",
    "In the first section of the paper, the author has explained the various advantages of a good prediction model for electrical energy consumption and how the terms like Demand Side Management and Demand Side Response can be predicted on the basis of modelling.The energy consumption in domestic appliances is the main area of exploration where mainly two prameters are taken into account : the type and the number of appliances are used by the occupants of a house. Followed by a breif about the paper are the results and outputs of all the other similar papers and how these papers were able to perform a nearly accurate results are mentioned.Different approaches used by these papers, with the pros and cons of each method is also taken into account.The residential electrical energy consumption is explained via a pie chart of all the possible Appliances which contribute to energy consumption.\n"
   ]
  },
  {
   "cell_type": "markdown",
   "metadata": {},
   "source": []
  },
  {
   "cell_type": "markdown",
   "metadata": {},
   "source": [
    "In the second section , the author describes the house whose energy consumption will be predicted using various models, keeping in mind some other external factors. All the features like the appliances , occupants of the house, blueprints of the house with locations where various parameters are being calculated like Temperature and humidity and the daily routines of the house members is described. Also,about the ZigBee wireless sensors which is used to measure the temperature and humidity from different parts of the house.\n"
   ]
  },
  {
   "cell_type": "markdown",
   "metadata": {},
   "source": [
    "The third section of the paper deals with performing in detail analysis of the energy dataset. The recorded data and description includes features like EDA (Exploratory Data Analysis), feature filtering, various regression models compared on the basis of different performance evaluation indices like MAPE ,RMSE, MAE, Model Selection etc.Histogram plots were plotted in which 0 shows no relation , -1 shows no co-relation and 1 means positive co-relation. The author used Boruta algorithm to discover which all parameters are important in this analysis but the result didn't come out as expected so they switched to Recursive Feature Elimination(RFE).After the analysis is made , the performance is evaluated with different performance indices out of which RMSE proves to be a better one. Among all the other regression types that were used in this analysis , GBM had good results for RMSE compared to other regression models.\n",
    "\n"
   ]
  },
  {
   "cell_type": "markdown",
   "metadata": {},
   "source": [
    "At the end , the authors concluded with the result that , few parameters such as humidity and temperature related to the house are associated with determining the use of energy of the appliances in the house . Similarly , parameters such as humidity , pressure etc also influence the energy consumption of the appliance .Other parameters which were considered in this study was eliminated using data filtering method."
   ]
  },
  {
   "cell_type": "markdown",
   "metadata": {},
   "source": [
    "# Positives:"
   ]
  },
  {
   "cell_type": "markdown",
   "metadata": {},
   "source": [
    "•\tIn the second section , they have explained about the ZigBee module very well.\n",
    "\n"
   ]
  },
  {
   "cell_type": "markdown",
   "metadata": {},
   "source": [
    "•\tExploratory Data Analysis performed by the authors gives a clear picture about the energy use of the appliances.\n"
   ]
  },
  {
   "cell_type": "markdown",
   "metadata": {},
   "source": [
    "•\tThe authors have explained the different performance evaluation indices well with their corresponding formulae."
   ]
  },
  {
   "cell_type": "markdown",
   "metadata": {},
   "source": [
    "## Critique :"
   ]
  },
  {
   "cell_type": "markdown",
   "metadata": {},
   "source": [
    "•\tIt mentions about hidden Markov model but there is no explanation given."
   ]
  },
  {
   "cell_type": "markdown",
   "metadata": {},
   "source": [
    "•\tIn section 2 the authors have mentioned about the location , latitude and area  of the house ,but the significance of that is not given anywhere. If they had mentioned about that ,the reader might know how the location influences the energy use. "
   ]
  },
  {
   "cell_type": "markdown",
   "metadata": {},
   "source": [
    "•\tIn the introduction part it says the what the upcoming parts deals with . It could have been mentioned in a  better way by pointing the part name."
   ]
  },
  {
   "cell_type": "markdown",
   "metadata": {},
   "source": [
    "•\tIn the house description section , it gives details about the house which is a little too much information about that which is not required."
   ]
  },
  {
   "cell_type": "markdown",
   "metadata": {},
   "source": [
    "•\tIn section 2 (house description) it describes about the house design , where they have mentioned about some parameters such as 'u' . It is not mentioned anywhere in the paper what these parameters stands for."
   ]
  },
  {
   "cell_type": "markdown",
   "metadata": {},
   "source": [
    "•\tIn section 3 , they have mentioned about variables such as T1 , T2 etc., but haven't explained what these variables are."
   ]
  },
  {
   "cell_type": "markdown",
   "metadata": {},
   "source": [
    "•\tIn section 3 it says there is no clear pattern regarding the day of the week but they have failed to give a reason on why it is so?"
   ]
  },
  {
   "cell_type": "markdown",
   "metadata": {},
   "source": [
    "•\tIn section 3 , they have mentioned about 2 random variables taken for Boruta algorithm. On what basis are these two variables selected? They haven't mentioned that."
   ]
  },
  {
   "cell_type": "markdown",
   "metadata": {},
   "source": [
    "•\tIn section 3 , they have mentioned that performance of the selected variables with respect to the RMSE is not derived by using Boruta algorithm so they are switching to RFE(Recursive Feature Elimination). They have explained a lot about Boruta algorithm which was proved ineffecient in this case. Instead of that , they could have written in 2 lines about why it is inefficient and explained in detail about the reason behind the selection of RFE ."
   ]
  },
  {
   "cell_type": "markdown",
   "metadata": {},
   "source": [
    "•\tIn the end there could have been a separate section about the future researches and scope in this field."
   ]
  },
  {
   "cell_type": "code",
   "execution_count": null,
   "metadata": {
    "collapsed": true
   },
   "outputs": [],
   "source": []
  }
 ],
 "metadata": {
  "kernelspec": {
   "display_name": "Python 3",
   "language": "python",
   "name": "python3"
  },
  "language_info": {
   "codemirror_mode": {
    "name": "ipython",
    "version": 3
   },
   "file_extension": ".py",
   "mimetype": "text/x-python",
   "name": "python",
   "nbconvert_exporter": "python",
   "pygments_lexer": "ipython3",
   "version": "3.6.3"
  }
 },
 "nbformat": 4,
 "nbformat_minor": 2
}

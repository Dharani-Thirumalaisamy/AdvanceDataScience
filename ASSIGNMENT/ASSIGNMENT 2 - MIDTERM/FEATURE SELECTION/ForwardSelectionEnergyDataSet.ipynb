{
 "cells": [
  {
   "cell_type": "code",
   "execution_count": 1,
   "metadata": {},
   "outputs": [
    {
     "name": "stderr",
     "output_type": "stream",
     "text": [
      "C:\\ProgramData\\Anaconda3\\lib\\site-packages\\statsmodels\\compat\\pandas.py:56: FutureWarning: The pandas.core.datetools module is deprecated and will be removed in a future version. Please use the pandas.tseries module instead.\n",
      "  from pandas.core import datetools\n",
      "C:\\ProgramData\\Anaconda3\\lib\\site-packages\\sklearn\\cross_validation.py:41: DeprecationWarning: This module was deprecated in version 0.18 in favor of the model_selection module into which all the refactored classes and functions are moved. Also note that the interface of the new CV iterators are different from that of this module. This module will be removed in 0.20.\n",
      "  \"This module will be removed in 0.20.\", DeprecationWarning)\n"
     ]
    }
   ],
   "source": [
    "import pandas as pd\n",
    "import statsmodels.api as sm\n",
    "import urllib\n",
    "from urllib import request\n",
    "from sklearn.ensemble import RandomForestRegressor\n",
    "from sklearn.metrics import roc_auc_score\n",
    "from sklearn import preprocessing\n",
    "from sklearn.preprocessing import label_binarize\n",
    "import numpy as np\n",
    "import sklearn \n",
    "from sklearn import preprocessing\n",
    "from random import seed\n",
    "from random import randrange\n",
    "from math import sqrt\n",
    "import matplotlib.pyplot as plt\n",
    "import numpy as np\n",
    "from sklearn import datasets, linear_model, metrics\n",
    "from sklearn.metrics import mean_squared_error\n",
    "from sklearn.metrics import mean_absolute_error\n",
    "from sklearn.cross_validation import train_test_split \n",
    "from sklearn.metrics import r2_score\n",
    "import matplotlib.pyplot as plt\n",
    "from sklearn import datasets, linear_model, metrics\n",
    "from sklearn.model_selection import train_test_split\n",
    "from sklearn.preprocessing import StandardScaler\n",
    "\n",
    "import matplotlib.pyplot as plt\n",
    "from subprocess import check_output\n",
    "from datetime import time\n",
    "from mlxtend.feature_selection import SequentialFeatureSelector as SFS\n",
    "\n",
    "url = \"https://raw.githubusercontent.com/LuisM78/Appliances-energy-prediction-data/master/energydata_complete.csv\"\n",
    "data = pd.read_csv(url)\n",
    "data['date'] = pd.to_datetime(data['date'])\n",
    "data['year'], data['month'] , data['time'] , data['hour'] ,data['day'] , data['day_of_week'],data['Numerical_Week'] = data['date'].dt.year, data['date'].dt.month , data['date'].dt.time , data['date'].dt.hour , data['date'].dt.day , data['date'].dt.weekday_name,data['date'].dt.weekday\n",
    "data['weekStatus'] = data['date'].dt.dayofweek\n",
    "data['WeekStatus'] = np.where(data['weekStatus'] < 5, 'Weekday', 'Weekend')\n",
    "#data['DateStr'] = data['date'].apply(lambda x: x.strftime('%Y%m%d%H%M'))\n",
    "#data = data.loc[(data['Appliances'] < 900)]\n",
    "\n",
    "d = data.date[0:len(data.date)]\n",
    "data_final = []\n",
    "for i in range (len(d)):\n",
    "    if(i==0):\n",
    "        a= 61200\n",
    "        data_final.append(a)\n",
    "    elif(i>0):\n",
    "        a=a+600\n",
    "        data_final.append(a)\n",
    "\n",
    "data[\"NSM\"] = pd.DataFrame({'NSM':data_final})\n",
    "data1 = data.drop('date', 1)\n",
    "data1 = data1.drop('Appliances', 1)\n",
    "data1 = data1.drop('day_of_week',1)\n",
    "data1 = data1.drop('WeekStatus',1)\n",
    "data1 = data1.drop('time',1)\n",
    "X = data1\n",
    "y = data.Appliances\n",
    "X.head(1) \n",
    "# splitting X and y into training and testing sets\n",
    "from sklearn.cross_validation import train_test_split\n",
    "X_train, X_test, y_train, y_test = train_test_split(X, y, test_size=0.3,\n",
    "                                                    random_state=1)"
   ]
  },
  {
   "cell_type": "code",
   "execution_count": 13,
   "metadata": {},
   "outputs": [
    {
     "name": "stdout",
     "output_type": "stream",
     "text": [
      "Add  year                           with p-value 0.0\n",
      "Add  hour                           with p-value 1.39406e-208\n",
      "Add  lights                         with p-value 3.89728e-100\n",
      "Add  RH_out                         with p-value 3.48902e-57\n",
      "Add  RH_1                           with p-value 3.15155e-51\n",
      "Add  RH_7                           with p-value 6.77888e-78\n",
      "Add  RH_2                           with p-value 8.79214e-56\n",
      "Add  RH_8                           with p-value 9.01866e-16\n",
      "Add  Windspeed                      with p-value 3.26658e-14\n",
      "Add  T3                             with p-value 4.21052e-19\n",
      "Add  T2                             with p-value 1.03917e-107\n",
      "Add  month                          with p-value 2.06426e-37\n",
      "Add  T6                             with p-value 2.65568e-24\n",
      "Add  T_out                          with p-value 5.09808e-11\n",
      "Add  RH_3                           with p-value 2.44468e-10\n",
      "Add  T8                             with p-value 2.3273e-09\n",
      "Add  T9                             with p-value 1.32621e-16\n",
      "Add  Numerical_Week                 with p-value 2.71363e-06\n",
      "Add  weekStatus                     with p-value 2.71363e-06\n",
      "Add  Visibility                     with p-value 0.00455741\n",
      "resulting features:\n",
      "['year', 'hour', 'lights', 'RH_out', 'RH_1', 'RH_7', 'RH_2', 'RH_8', 'Windspeed', 'T3', 'T2', 'month', 'T6', 'T_out', 'RH_3', 'T8', 'T9', 'Numerical_Week', 'weekStatus', 'Visibility']\n"
     ]
    }
   ],
   "source": [
    "def Forward_Selection(X, y, \n",
    "                       initial_list=[], \n",
    "                       threshold_in=0.01, \n",
    "                       threshold_out = 0.05, \n",
    "                       verbose=True):\n",
    "    \"\"\" Perform a forward feature selection \n",
    "    Arguments:\n",
    "        X - pandas.DataFrame with candidate features\n",
    "        y - list-like with the target\n",
    "        initial_list - list of features to start with (column names of X)\n",
    "        threshold_in - include a feature if its p-value < threshold_in\n",
    "        threshold_out - exclude a feature if its p-value > threshold_out\n",
    "        verbose - whether to print the sequence of inclusions and exclusions\n",
    "    Returns: list of selected features\n",
    "    \"\"\"\n",
    "    included = list(initial_list)\n",
    "    while True:\n",
    "        changed=False\n",
    "        # forward step\n",
    "        excluded = list(set(X.columns)-set(included))\n",
    "        new_pval = pd.Series(index=excluded)\n",
    "        for new_column in excluded:\n",
    "             model = sm.OLS(y, sm.add_constant(pd.DataFrame(X[included+[new_column]]))).fit()\n",
    "             new_pval[new_column] = model.pvalues[new_column]\n",
    "        best_pval = new_pval.min()\n",
    "        if best_pval < threshold_in:\n",
    "            best_feature = new_pval.argmin()\n",
    "            included.append(best_feature)\n",
    "            changed=True\n",
    "            if verbose:\n",
    "                print('Add  {:30} with p-value {:.6}'.format(best_feature, best_pval))\n",
    "        if not changed:\n",
    "            break\n",
    "    return included\n",
    "\n",
    "result = Forward_Selection(X.astype(float), y)\n",
    "\n",
    "print('resulting features:')\n",
    "print(result)"
   ]
  },
  {
   "cell_type": "code",
   "execution_count": null,
   "metadata": {
    "collapsed": true
   },
   "outputs": [],
   "source": [
    "    "
   ]
  }
 ],
 "metadata": {
  "kernelspec": {
   "display_name": "Python 3",
   "language": "python",
   "name": "python3"
  },
  "language_info": {
   "codemirror_mode": {
    "name": "ipython",
    "version": 3
   },
   "file_extension": ".py",
   "mimetype": "text/x-python",
   "name": "python",
   "nbconvert_exporter": "python",
   "pygments_lexer": "ipython3",
   "version": "3.6.3"
  }
 },
 "nbformat": 4,
 "nbformat_minor": 2
}

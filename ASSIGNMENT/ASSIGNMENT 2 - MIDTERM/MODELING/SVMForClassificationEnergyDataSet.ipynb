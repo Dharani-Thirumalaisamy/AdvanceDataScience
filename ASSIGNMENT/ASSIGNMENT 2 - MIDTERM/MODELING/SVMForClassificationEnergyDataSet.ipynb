{
 "cells": [
  {
   "cell_type": "markdown",
   "metadata": {},
   "source": [
    "# Support Vector Machine.\n",
    "In machine learning, support vector machines (SVMs, also support vector networks[1]) are supervised learning models with associated learning algorithms that analyze data used for classification and regression analysis. Given a set of training examples, each marked as belonging to one or the other of two categories, an SVM training algorithm builds a model that assigns new examples to one category or the other, making it a non-probabilistic binary linear classifier (although methods such as Platt scaling exist to use SVM in a probabilistic classification setting). An SVM model is a representation of the examples as points in space, mapped so that the examples of the separate categories are divided by a clear gap that is as wide as possible. New examples are then mapped into that same space and predicted to belong to a category based on which side of the gap they fall.\n",
    "\n",
    "In addition to performing linear classification, SVMs can efficiently perform a non-linear classification using what is called the kernel trick, implicitly mapping their inputs into high-dimensional feature spaces."
   ]
  },
  {
   "cell_type": "code",
   "execution_count": null,
   "metadata": {},
   "outputs": [],
   "source": [
    "import pandas as pd\n",
    "import numpy as np\n",
    "from sklearn import datasets\n",
    "from sklearn import metrics\n",
    "from sklearn.svm import SVC\n",
    "from sklearn.svm import SVR\n",
    "url = \"https://raw.githubusercontent.com/LuisM78/Appliances-energy-prediction-data/master/energydata_complete.csv\"\n",
    "data = pd.read_csv(url)\n",
    "data['date'] = pd.to_datetime(data['date'])\n",
    "data['year'], data['month'] , data['time'] , data['hour'] ,data['day'] , data['day_of_week'],data['Numerical_Week'] = data['date'].dt.year, data['date'].dt.month , data['date'].dt.time , data['date'].dt.hour , data['date'].dt.day , data['date'].dt.weekday_name,data['date'].dt.weekday\n",
    "data['WeekStatus'] = np.where(data['Numerical_Week'] < 5, 'Weekday', 'Weekend')\n",
    "data['weekStatus'] = np.where(data['Numerical_Week'] < 5, 0 , 1)\n",
    "d = data.date[0:len(data.date)]\n",
    "data_final = []\n",
    "for i in range (len(d)):\n",
    "    if(i==0):\n",
    "        a= 61200\n",
    "        data_final.append(a)\n",
    "    elif(i>0):\n",
    "        a=a+600\n",
    "        data_final.append(a)\n",
    "\n",
    "data[\"NSM\"] = pd.DataFrame({'NSM':data_final})\n",
    "\n",
    "data1 = data.drop('date',1)\n",
    "data1 = data1.drop('Appliances', 1)\n",
    "data1 = data1.drop('day_of_week',1)\n",
    "data1 = data1.drop('WeekStatus',1)\n",
    "data1 = data1.drop('time',1)\n",
    "data1 = data1.drop('weekStatus',1)\n",
    "data1 = data1.drop('NSM',1)\n",
    "data1.head(5)\n",
    "\n",
    "X = data['Appliances'].as_matrix()\n",
    "X"
   ]
  },
  {
   "cell_type": "code",
   "execution_count": 3,
   "metadata": {},
   "outputs": [
    {
     "name": "stdout",
     "output_type": "stream",
     "text": [
      "SVC(C=1.0, cache_size=200, class_weight=None, coef0=0.0,\n",
      "  decision_function_shape='ovr', degree=3, gamma='auto', kernel='rbf',\n",
      "  max_iter=-1, probability=False, random_state=None, shrinking=True,\n",
      "  tol=0.001, verbose=False)\n",
      "             precision    recall  f1-score   support\n",
      "\n",
      "          0       1.00      1.00      1.00     14263\n",
      "          1       1.00      1.00      1.00      5472\n",
      "\n",
      "avg / total       1.00      1.00      1.00     19735\n",
      "\n",
      "[[14263     0]\n",
      " [    0  5472]]\n"
     ]
    }
   ],
   "source": [
    "y = data.weekStatus\n",
    "y1 = y.as_matrix()\n",
    "# fit a SVM model to the data\n",
    "model = SVC()\n",
    "model.fit(X, y1)\n",
    "print(model)\n",
    "# make predictions\n",
    "expected = y1\n",
    "predicted = model.predict(X)\n",
    "# summarize the fit of the model\n",
    "print(metrics.classification_report(expected, predicted))\n",
    "print(metrics.confusion_matrix(expected, predicted))"
   ]
  },
  {
   "cell_type": "code",
   "execution_count": null,
   "metadata": {
    "collapsed": true
   },
   "outputs": [],
   "source": [
    "# Fit regression model\n",
    "a = data.Appliances\n",
    "svr_rbf = SVR(kernel='rbf', C=1e3, gamma=0.1)\n",
    "svr_lin = SVR(kernel='linear', C=1e3)\n",
    "svr_poly = SVR(kernel='poly', C=1e3, degree=2)\n",
    "y_rbf = svr_rbf.fit(X, a).predict(X)\n",
    "y_lin = svr_lin.fit(X, a).predict(X)\n",
    "y_poly = svr_poly.fit(X, a).predict(X)\n",
    "\n",
    "print(metrics.classification_report(expected, predicted))\n",
    "print(metrics.confusion_matrix(expected, predicted))"
   ]
  },
  {
   "cell_type": "code",
   "execution_count": null,
   "metadata": {
    "collapsed": true
   },
   "outputs": [],
   "source": []
  },
  {
   "cell_type": "code",
   "execution_count": null,
   "metadata": {
    "collapsed": true
   },
   "outputs": [],
   "source": []
  }
 ],
 "metadata": {
  "kernelspec": {
   "display_name": "Python 3",
   "language": "python",
   "name": "python3"
  },
  "language_info": {
   "codemirror_mode": {
    "name": "ipython",
    "version": 3
   },
   "file_extension": ".py",
   "mimetype": "text/x-python",
   "name": "python",
   "nbconvert_exporter": "python",
   "pygments_lexer": "ipython3",
   "version": "3.6.3"
  }
 },
 "nbformat": 4,
 "nbformat_minor": 2
}

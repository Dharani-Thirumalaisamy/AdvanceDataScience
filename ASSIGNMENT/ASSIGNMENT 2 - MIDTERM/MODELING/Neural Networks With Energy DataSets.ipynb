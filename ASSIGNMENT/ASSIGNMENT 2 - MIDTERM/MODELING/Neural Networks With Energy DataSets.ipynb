{
 "cells": [
  {
   "cell_type": "code",
   "execution_count": 1,
   "metadata": {},
   "outputs": [
    {
     "name": "stderr",
     "output_type": "stream",
     "text": [
      "C:\\Users\\Dell-pc\\Anaconda3\\lib\\site-packages\\sklearn\\cross_validation.py:41: DeprecationWarning: This module was deprecated in version 0.18 in favor of the model_selection module into which all the refactored classes and functions are moved. Also note that the interface of the new CV iterators are different from that of this module. This module will be removed in 0.20.\n",
      "  \"This module will be removed in 0.20.\", DeprecationWarning)\n"
     ]
    }
   ],
   "source": [
    "import numpy\n",
    "import matplotlib.pyplot as plt\n",
    "from pandas import read_csv\n",
    "import math\n",
    "from sklearn.cross_validation import train_test_split\n",
    "from sklearn import preprocessing\n",
    "from sklearn.preprocessing import MinMaxScaler\n",
    "from sklearn.metrics import mean_squared_error\n",
    "from sklearn.preprocessing import LabelEncoder\n",
    "from math import sqrt\n",
    "from numpy import concatenate\n",
    "import pandas as pd\n",
    "from pandas import DataFrame as df\n",
    "import numpy as np\n",
    "import urllib\n",
    "from urllib import request\n",
    "import csv\n",
    "from sklearn.metrics import r2_score\n",
    "import matplotlib.pyplot as plt"
   ]
  },
  {
   "cell_type": "code",
   "execution_count": 2,
   "metadata": {
    "collapsed": true
   },
   "outputs": [],
   "source": [
    "from sklearn import neural_network\n",
    "from sklearn.neural_network import MLPRegressor"
   ]
  },
  {
   "cell_type": "code",
   "execution_count": 3,
   "metadata": {
    "collapsed": true
   },
   "outputs": [],
   "source": [
    "url = \"https://raw.githubusercontent.com/LuisM78/Appliances-energy-prediction-data/master/energydata_complete.csv\"\n",
    "df = pd.read_csv(url)\n",
    "\n",
    "\n",
    "df['date'] = pd.to_datetime(df['date'])\n",
    "df['month'] , df['time'] , df['hour'] ,df['day'] , df['day_of_week'],df['Numerical_Week'] =  df['date'].dt.month , df['date'].dt.time , df['date'].dt.hour , df['date'].dt.day , df['date'].dt.weekday_name,df['date'].dt.weekday\n",
    "df['weekStatus'] = df['date'].dt.dayofweek\n",
    "df['WeekStatus'] = np.where(df['weekStatus'] < 5, 'Weekday', 'Weekend')\n",
    "\n",
    "# converting the time to seconds , appending that column to the existing dataframe and then making the 'date' column as index to \n",
    "# the dataset.\n",
    "d = df.date[0:len(df.date)]\n",
    "data = []\n",
    "#print(data)\n",
    "for i in range (len(d)):\n",
    "    if (i==0):\n",
    "        a = 61200\n",
    "        data.append(a)\n",
    "    elif (i > 0 ):\n",
    "        a = a + 600\n",
    "        data.append(a)\n",
    "#print((data))\n",
    "#df['data_converted'] = data\n",
    "df1 = pd.DataFrame({'data_converted' : data})\n",
    "df['data_converted'] = df1\n",
    "\n",
    "#df['data_converted'] = df.astype(int)\n",
    "#df.columns\n",
    "df = df.set_index('date')"
   ]
  },
  {
   "cell_type": "code",
   "execution_count": 4,
   "metadata": {
    "collapsed": true
   },
   "outputs": [],
   "source": [
    "df=df.drop(['day_of_week'] ,axis = 1)\n",
    "df=df.drop(['WeekStatus'] ,axis = 1)\n",
    "df=df.drop(['time'] ,axis = 1)"
   ]
  },
  {
   "cell_type": "code",
   "execution_count": 5,
   "metadata": {},
   "outputs": [
    {
     "name": "stderr",
     "output_type": "stream",
     "text": [
      "C:\\Users\\Dell-pc\\Anaconda3\\lib\\site-packages\\sklearn\\utils\\validation.py:475: DataConversionWarning: Data with input dtype int64 was converted to float64 by MinMaxScaler.\n",
      "  warnings.warn(msg, DataConversionWarning)\n"
     ]
    }
   ],
   "source": [
    "#df = df.astype('float32')\n",
    "a1 = df.Appliances.values\n",
    "a2 = a1.reshape(len(a1),1)\n",
    "scaler = MinMaxScaler(feature_range=(0, 1))\n",
    "df_1 = scaler.fit_transform(a2)\n",
    "#df_1"
   ]
  },
  {
   "cell_type": "code",
   "execution_count": 6,
   "metadata": {
    "collapsed": true
   },
   "outputs": [],
   "source": [
    "y = df_1 #target - appliances\n",
    "df = df.drop(['Appliances'],axis=1)\n",
    "df_2 = scaler.fit_transform(df) # features \n",
    "x = df_2\n",
    "#print(x)"
   ]
  },
  {
   "cell_type": "code",
   "execution_count": 7,
   "metadata": {},
   "outputs": [
    {
     "name": "stdout",
     "output_type": "stream",
     "text": [
      "13814 5921\n",
      "13814 5921\n"
     ]
    }
   ],
   "source": [
    "#print(y)\n",
    "Y_train_size = int(len(y) * 0.7)\n",
    "Y_test_size = (len(y) - Y_train_size)\n",
    "train_Y, test_Y = df_1[0:Y_train_size,:], df_1[Y_train_size:len(df_1),:]\n",
    "print(len(train_Y) , len(test_Y))\n",
    "\n",
    "X_train_size = int(len(x) * 0.7)\n",
    "\n",
    "\n",
    "X_test_size = (len(x) - X_train_size)\n",
    "train_X, test_X = df_2[0:X_train_size,:], df_2[X_train_size:len(df_2),:]\n",
    "print(len(train_X) , len(test_X))"
   ]
  },
  {
   "cell_type": "code",
   "execution_count": 20,
   "metadata": {},
   "outputs": [
    {
     "name": "stderr",
     "output_type": "stream",
     "text": [
      "C:\\Users\\Dell-pc\\Anaconda3\\lib\\site-packages\\sklearn\\neural_network\\multilayer_perceptron.py:1306: DataConversionWarning: A column-vector y was passed when a 1d array was expected. Please change the shape of y to (n_samples, ), for example using ravel().\n",
      "  y = column_or_1d(y, warn=True)\n",
      "C:\\Users\\Dell-pc\\Anaconda3\\lib\\site-packages\\sklearn\\neural_network\\multilayer_perceptron.py:564: ConvergenceWarning: Stochastic Optimizer: Maximum iterations (110) reached and the optimization hasn't converged yet.\n",
      "  % self.max_iter, ConvergenceWarning)\n"
     ]
    }
   ],
   "source": [
    "mlp = MLPRegressor(hidden_layer_sizes=(35,35,10,), activation='tanh', solver='sgd', alpha=0.15, batch_size=159,  max_iter=110,  random_state=None,  verbose=False, warm_start=False, momentum=0.9,learning_rate_init=0.01, validation_fraction=0.1,epsilon=1e-08)\n",
    "mlp.fit(train_X, train_Y)\n",
    "pred1 = mlp.predict(test_X)"
   ]
  },
  {
   "cell_type": "code",
   "execution_count": 21,
   "metadata": {},
   "outputs": [
    {
     "name": "stdout",
     "output_type": "stream",
     "text": [
      "Test RMSE: 0.082\n"
     ]
    }
   ],
   "source": [
    "rmse_test = sqrt(mean_squared_error(test_Y,pred1))\n",
    "print('Test RMSE: %.3f' % rmse_test)"
   ]
  },
  {
   "cell_type": "code",
   "execution_count": 22,
   "metadata": {},
   "outputs": [
    {
     "name": "stdout",
     "output_type": "stream",
     "text": [
      "Test R2: 0.072\n"
     ]
    }
   ],
   "source": [
    "r2 = r2_score(test_Y,pred1)\n",
    "print('Test R2: %.3f' % r2)"
   ]
  }
 ],
 "metadata": {
  "kernelspec": {
   "display_name": "Python 3",
   "language": "python",
   "name": "python3"
  },
  "language_info": {
   "codemirror_mode": {
    "name": "ipython",
    "version": 3
   },
   "file_extension": ".py",
   "mimetype": "text/x-python",
   "name": "python",
   "nbconvert_exporter": "python",
   "pygments_lexer": "ipython3",
   "version": "3.6.3"
  }
 },
 "nbformat": 4,
 "nbformat_minor": 2
}
